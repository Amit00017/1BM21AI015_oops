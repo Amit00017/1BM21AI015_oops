{
  "nbformat": 4,
  "nbformat_minor": 0,
  "metadata": {
    "colab": {
      "provenance": [],
      "authorship_tag": "ABX9TyMyJfAZ8GXSPDX5GC7KXyYR",
      "include_colab_link": true
    },
    "kernelspec": {
      "name": "python3",
      "display_name": "Python 3"
    },
    "language_info": {
      "name": "python"
    }
  },
  "cells": [
    {
      "cell_type": "markdown",
      "metadata": {
        "id": "view-in-github",
        "colab_type": "text"
      },
      "source": [
        "<a href=\"https://colab.research.google.com/github/Amit00017/1BM21AI015_oops/blob/main/00Ps_015.ipynb\" target=\"_parent\"><img src=\"https://colab.research.google.com/assets/colab-badge.svg\" alt=\"Open In Colab\"/></a>"
      ]
    },
    {
      "cell_type": "markdown",
      "source": [
        "1A) write a Python program to create two empty classes, Student and Marks\n",
        "Now create some instances and check whether they are instances of the\n",
        "said classes or not Also, check whether the said classes are subclasses of\n",
        "the built-in object class or not\n"
      ],
      "metadata": {
        "id": "FYQNLjgZzsWc"
      }
    },
    {
      "cell_type": "code",
      "execution_count": 1,
      "metadata": {
        "colab": {
          "base_uri": "https://localhost:8080/"
        },
        "id": "OGzJp1iWzZxh",
        "outputId": "03a14cbe-811a-4699-a328-d6f7183e568b"
      },
      "outputs": [
        {
          "output_type": "stream",
          "name": "stdout",
          "text": [
            "Is student_instance an instance of Student? True\n",
            "Is marks_instance an instance of Marks? True\n",
            "Is Student a subclass of object? True\n",
            "Is Marks a subclass of object? True\n",
            "Student Name: John Doe, Roll Number: 12345\n",
            "Marks Subject: Math, Score: 95\n"
          ]
        }
      ],
      "source": [
        "class Student:\n",
        "    def __init__(self, name, roll_number):\n",
        "        self.name = name\n",
        "        self.roll_number = roll_number\n",
        "\n",
        "class Marks:\n",
        "    def __init__(self, subject, score):\n",
        "        self.subject = subject\n",
        "        self.score = score\n",
        "\n",
        "\n",
        "student_instance = Student(name=\"John Doe\", roll_number=\"12345\")\n",
        "marks_instance = Marks(subject=\"Math\", score=95)\n",
        "\n",
        "\n",
        "is_student_instance = isinstance(student_instance, Student)\n",
        "is_marks_instance = isinstance(marks_instance, Marks)\n",
        "\n",
        "\n",
        "is_student_subclass = issubclass(Student, object)\n",
        "is_marks_subclass = issubclass(Marks, object)\n",
        "\n",
        "\n",
        "print(f\"Is student_instance an instance of Student? {is_student_instance}\")\n",
        "print(f\"Is marks_instance an instance of Marks? {is_marks_instance}\")\n",
        "print(f\"Is Student a subclass of object? {is_student_subclass}\")\n",
        "print(f\"Is Marks a subclass of object? {is_marks_subclass}\")\n",
        "\n",
        "\n",
        "print(f\"Student Name: {student_instance.name}, Roll Number: {student_instance.roll_number}\")\n",
        "print(f\"Marks Subject: {marks_instance.subject}, Score: {marks_instance.score}\")\n",
        "\n",
        "\n"
      ]
    },
    {
      "cell_type": "markdown",
      "source": [
        "1B) perform addition of two complex numbers using class COMPLEX.\n",
        "COMPLEX has two class variables real_part and img_part. Constructors\n",
        "assigns values for the respective variables. Create three"
      ],
      "metadata": {
        "id": "eiTp6Ec3z0aM"
      }
    },
    {
      "cell_type": "code",
      "source": [
        "class COMPLEX:\n",
        "\n",
        "    real_part = 0\n",
        "    img_part = 0\n",
        "\n",
        "\n",
        "    def __init__(self, real, img):\n",
        "        self.real_part = real\n",
        "        self.img_part = img\n",
        "\n",
        "\n",
        "    def add_complex(self, other):\n",
        "        result = COMPLEX(0, 0)\n",
        "        result.real_part = self.real_part + other.real_part\n",
        "        result.img_part = self.img_part + other.img_part\n",
        "        return result\n",
        "\n",
        "\n",
        "C1 = COMPLEX(3, 4)\n",
        "C2 = COMPLEX(1, 2)\n",
        "C3 = C1.add_complex(C2)\n",
        "\n",
        "\n",
        "print(f\"C1: {C1.real_part} + {C1.img_part}j\")\n",
        "print(f\"C2: {C2.real_part} + {C2.img_part}j\")\n",
        "print(f\"C1 + C2 = C3: {C3.real_part} + {C3.img_part}j\")\n"
      ],
      "metadata": {
        "colab": {
          "base_uri": "https://localhost:8080/"
        },
        "id": "E7pssP6cz3M8",
        "outputId": "b2a0ff60-1117-4d75-e57a-ae905ebdef54"
      },
      "execution_count": 2,
      "outputs": [
        {
          "output_type": "stream",
          "name": "stdout",
          "text": [
            "C1: 3 + 4j\n",
            "C2: 1 + 2j\n",
            "C1 + C2 = C3: 4 + 6j\n"
          ]
        }
      ]
    },
    {
      "cell_type": "markdown",
      "source": [
        "2a) Define a class called Songs, it will show the lyrics of a song.\n",
        "Its init() method should have two arguments:self and lyrics.lyricsis a list. Inside your class create a method called sing_me_a_song that prints each element of lyrics on his own line. Define a varible: happy_bday = Song([\"May god bless you, \", \"Have a sunshine on you,\", \"Happy Birthday to you !\"]) Call the sing_me_songmehod on this variable.\n"
      ],
      "metadata": {
        "id": "hFg5gBNH0HMM"
      }
    },
    {
      "cell_type": "code",
      "source": [
        "class Songs:\n",
        "    def __init__(self, lyrics):\n",
        "        self.lyrics = lyrics\n",
        "\n",
        "    def sing_me_a_song(self):\n",
        "        for line in self.lyrics:\n",
        "            print(line)\n",
        "\n",
        "\n",
        "happy_bday_lyrics = [\n",
        "    \"May god bless you,\",\n",
        "    \"Have a sunshine on you,\",\n",
        "    \"Happy Birthday to you !\"\n",
        "]\n",
        "\n",
        "happy_bday = Songs(happy_bday_lyrics)\n",
        "\n",
        "\n",
        "happy_bday.sing_me_a_song()\n"
      ],
      "metadata": {
        "colab": {
          "base_uri": "https://localhost:8080/"
        },
        "id": "5fSoLsNo0JEM",
        "outputId": "35550a30-bae8-4bb6-d165-41acfd141884"
      },
      "execution_count": 3,
      "outputs": [
        {
          "output_type": "stream",
          "name": "stdout",
          "text": [
            "May god bless you,\n",
            "Have a sunshine on you,\n",
            "Happy Birthday to you !\n"
          ]
        }
      ]
    },
    {
      "cell_type": "markdown",
      "source": [
        "2b) Create a class called dog having following features:\n",
        "Class Dog Attributes: • Name • size • Breed Default: ‘Unknown’ • Date of birth in DD/MM/YYYY format Default: ‘Unknown’ Methods: • Bark o This should get the dog to bark (print out the word ‘woof!’) • get_name o This should return the dog’s name • set_name o This should allow the user to set an alphabetical name between 2 and 30 characters. o Convert the name to title case before setting • dog_years This should calculate a dog’s age in dog years (use 1 year = 7 dog years)\n"
      ],
      "metadata": {
        "id": "sbFaB5Pt0ZeU"
      }
    },
    {
      "cell_type": "code",
      "source": [
        "class Dog:\n",
        "    def __init__(self, name, size, breed='Unknown', dob='Unknown'):\n",
        "        self.set_name(name)\n",
        "        self.size = size\n",
        "        self.breed = breed\n",
        "        self.dob = dob\n",
        "\n",
        "    def bark(self):\n",
        "        print('Woof!')\n",
        "\n",
        "    def get_name(self):\n",
        "        return self.name\n",
        "\n",
        "    def set_name(self, name):\n",
        "\n",
        "        if 2 <= len(name) <= 30 and name.isalpha():\n",
        "            self.name = name.title()\n",
        "        else:\n",
        "            print(\"Invalid name. Please provide a name between 2 and 30 alphabetical characters.\")\n",
        "\n",
        "    def dog_years(self):\n",
        "        return 7 * (2023 - int(self.dob[-4:]))\n",
        "\n",
        "\n",
        "my_dog = Dog(name='Buddy', size='Medium', breed='Labrador', dob='01/01/2010')\n",
        "\n",
        "\n",
        "print(f\"Name: {my_dog.get_name()}\")\n",
        "print(f\"Size: {my_dog.size}\")\n",
        "print(f\"Breed: {my_dog.breed}\")\n",
        "print(f\"Date of Birth: {my_dog.dob}\")\n",
        "\n",
        "\n",
        "my_dog.bark()\n",
        "\n",
        "\n",
        "print(f\"Dog years: {my_dog.dog_years()}\")\n",
        "\n",
        "\n",
        "\n",
        "\n",
        "\n"
      ],
      "metadata": {
        "id": "Rw6WgIj40d2a"
      },
      "execution_count": null,
      "outputs": []
    }
  ]
}